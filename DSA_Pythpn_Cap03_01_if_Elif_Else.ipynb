{
  "nbformat": 4,
  "nbformat_minor": 0,
  "metadata": {
    "colab": {
      "provenance": [],
      "authorship_tag": "ABX9TyOrh4JaLbBxkO20imBhBBQK",
      "include_colab_link": true
    },
    "kernelspec": {
      "name": "python3",
      "display_name": "Python 3"
    },
    "language_info": {
      "name": "python"
    }
  },
  "cells": [
    {
      "cell_type": "markdown",
      "metadata": {
        "id": "view-in-github",
        "colab_type": "text"
      },
      "source": [
        "<a href=\"https://colab.research.google.com/github/marlimbr/DIO_DOCKER_Projeto-Final_iac/blob/main/DSA_Pythpn_Cap03_01_if_Elif_Else.ipynb\" target=\"_parent\"><img src=\"https://colab.research.google.com/assets/colab-badge.svg\" alt=\"Open In Colab\"/></a>"
      ]
    },
    {
      "cell_type": "code",
      "execution_count": 41,
      "metadata": {
        "id": "R4lyTp-XxkyI"
      },
      "outputs": [],
      "source": [
        "# Data Science Academy - Python Fundamentos - Capítulo 3"
      ]
    },
    {
      "cell_type": "markdown",
      "source": [
        "## Condicional If"
      ],
      "metadata": {
        "id": "IhqWrAFuyCNt"
      }
    },
    {
      "cell_type": "code",
      "source": [
        "# Condicional If\n",
        "if 5 > 2:\n",
        "    print(\"Python funciona!\")"
      ],
      "metadata": {
        "colab": {
          "base_uri": "https://localhost:8080/"
        },
        "id": "8gQcF38FyKOl",
        "outputId": "53181984-0fb9-42f3-d5d6-d917eb6c058a"
      },
      "execution_count": 42,
      "outputs": [
        {
          "output_type": "stream",
          "name": "stdout",
          "text": [
            "Python funciona!\n"
          ]
        }
      ]
    },
    {
      "cell_type": "code",
      "source": [
        "# Statement If...Else\n",
        "if 5 < 2:\n",
        "    print(\"Puthon funciona !\")\n",
        "else:\n",
        "    print(\"Algo está errado !!\")"
      ],
      "metadata": {
        "colab": {
          "base_uri": "https://localhost:8080/"
        },
        "id": "pRfCyXtKzHJ-",
        "outputId": "5f75b06d-b6e4-4257-de64-60bc86b512cc"
      },
      "execution_count": 43,
      "outputs": [
        {
          "output_type": "stream",
          "name": "stdout",
          "text": [
            "Algo está errado !!\n"
          ]
        }
      ]
    },
    {
      "cell_type": "code",
      "source": [
        "6 > 3"
      ],
      "metadata": {
        "colab": {
          "base_uri": "https://localhost:8080/"
        },
        "id": "pdoj6c0Qz0o9",
        "outputId": "59e5a3ec-6bb7-4497-e919-afc1b1f6c059"
      },
      "execution_count": 44,
      "outputs": [
        {
          "output_type": "execute_result",
          "data": {
            "text/plain": [
              "True"
            ]
          },
          "metadata": {},
          "execution_count": 44
        }
      ]
    },
    {
      "cell_type": "code",
      "source": [
        "3 > 7"
      ],
      "metadata": {
        "colab": {
          "base_uri": "https://localhost:8080/"
        },
        "id": "JgYcEgZvz3oq",
        "outputId": "e1c3b0b5-990c-4fba-fb75-14a5fba6a54c"
      },
      "execution_count": 45,
      "outputs": [
        {
          "output_type": "execute_result",
          "data": {
            "text/plain": [
              "False"
            ]
          },
          "metadata": {},
          "execution_count": 45
        }
      ]
    },
    {
      "cell_type": "code",
      "source": [
        "4 < 8"
      ],
      "metadata": {
        "colab": {
          "base_uri": "https://localhost:8080/"
        },
        "id": "_C0riqxzz7-2",
        "outputId": "941a065d-6635-48d9-d8af-ff1d5f6eb022"
      },
      "execution_count": 46,
      "outputs": [
        {
          "output_type": "execute_result",
          "data": {
            "text/plain": [
              "True"
            ]
          },
          "metadata": {},
          "execution_count": 46
        }
      ]
    },
    {
      "cell_type": "code",
      "source": [
        "4 >= 4"
      ],
      "metadata": {
        "colab": {
          "base_uri": "https://localhost:8080/"
        },
        "id": "VUanHal50AIm",
        "outputId": "3826a9a2-208e-4a7f-d285-5197946ee952"
      },
      "execution_count": 47,
      "outputs": [
        {
          "output_type": "execute_result",
          "data": {
            "text/plain": [
              "True"
            ]
          },
          "metadata": {},
          "execution_count": 47
        }
      ]
    },
    {
      "cell_type": "code",
      "source": [
        "if 5 == 5:\n",
        "    print(\"Testando Python !\")"
      ],
      "metadata": {
        "colab": {
          "base_uri": "https://localhost:8080/"
        },
        "id": "sl_pZOeB0OaG",
        "outputId": "16936e6b-dd6d-419f-ccc9-65421b952f40"
      },
      "execution_count": 48,
      "outputs": [
        {
          "output_type": "stream",
          "name": "stdout",
          "text": [
            "Testando Python !\n"
          ]
        }
      ]
    },
    {
      "cell_type": "code",
      "source": [
        "if True:\n",
        "    print('Parece que Python funciona !')"
      ],
      "metadata": {
        "colab": {
          "base_uri": "https://localhost:8080/"
        },
        "id": "SC_meag50sVC",
        "outputId": "1554d788-185b-44bb-95d9-a8bccf4d384b"
      },
      "execution_count": 49,
      "outputs": [
        {
          "output_type": "stream",
          "name": "stdout",
          "text": [
            "Parece que Python funciona !\n"
          ]
        }
      ]
    },
    {
      "cell_type": "code",
      "source": [
        "# Atenção com a sintaxe\n",
        "if 4 > 3:\n",
        "    print(\"Tudo funciona !\")"
      ],
      "metadata": {
        "colab": {
          "base_uri": "https://localhost:8080/"
        },
        "id": "k6UqV5MH0-xu",
        "outputId": "5e9be948-2d80-43d7-cb31-b90bd3d0c6f7"
      },
      "execution_count": 50,
      "outputs": [
        {
          "output_type": "stream",
          "name": "stdout",
          "text": [
            "Tudo funciona !\n"
          ]
        }
      ]
    },
    {
      "cell_type": "code",
      "source": [
        "# Atenção com a sintaxe\n",
        "if 4 > 3:\n",
        "  print(\"Tudo funciona !\")"
      ],
      "metadata": {
        "colab": {
          "base_uri": "https://localhost:8080/"
        },
        "id": "WosGzocN1emr",
        "outputId": "8b7d6e29-d23d-43f9-849b-41796788ec49"
      },
      "execution_count": 51,
      "outputs": [
        {
          "output_type": "stream",
          "name": "stdout",
          "text": [
            "Tudo funciona !\n"
          ]
        }
      ]
    },
    {
      "cell_type": "markdown",
      "source": [
        "## Condicionais Aninhados"
      ],
      "metadata": {
        "id": "E3VFtxp81_1-"
      }
    },
    {
      "cell_type": "code",
      "source": [
        "idade = 18\n",
        "if idade > 17:\n",
        "    print(\"Você pode dirigir !\")"
      ],
      "metadata": {
        "colab": {
          "base_uri": "https://localhost:8080/"
        },
        "id": "rG4kCx1R2bs8",
        "outputId": "af45f4e6-4dd7-4eda-a5ae-6e03591046a3"
      },
      "execution_count": 52,
      "outputs": [
        {
          "output_type": "stream",
          "name": "stdout",
          "text": [
            "Você pode dirigir !\n"
          ]
        }
      ]
    },
    {
      "cell_type": "code",
      "source": [
        "Nome = \"Bob\"\n",
        "if idade > 13:\n",
        "  if Nome == \"Bob\":\n",
        "    print(\"OK Bob, você está autorizado a entrar !\")\n",
        "else:\n",
        "      print(\"Descupe, mas você não pode entrar !\")"
      ],
      "metadata": {
        "colab": {
          "base_uri": "https://localhost:8080/"
        },
        "id": "Y_0VtyoD23Z7",
        "outputId": "cc7e06fb-222b-4ec6-8ca4-308b11f8cffc"
      },
      "execution_count": 53,
      "outputs": [
        {
          "output_type": "stream",
          "name": "stdout",
          "text": [
            "OK Bob, você está autorizado a entrar !\n"
          ]
        }
      ]
    },
    {
      "cell_type": "code",
      "source": [
        "idade = 29\n",
        "Nome = \"Dai\"\n",
        "if idade >= 13 and Nome == \"Dai\":\n",
        "  print(\"Vou chupar a rodinha dela ...\")"
      ],
      "metadata": {
        "colab": {
          "base_uri": "https://localhost:8080/"
        },
        "id": "Zxw8giWx4l5B",
        "outputId": "695984fd-5861-445d-a6de-53e83a13045b"
      },
      "execution_count": 54,
      "outputs": [
        {
          "output_type": "stream",
          "name": "stdout",
          "text": [
            "Vou chupar a rodinha dela ...\n"
          ]
        }
      ]
    },
    {
      "cell_type": "code",
      "source": [
        "idade = 12\n",
        "Nome = 'Daiane'\n",
        "if (idade >= 13) or (Nome == 'Daiane'):\n",
        "    print(\"Ok Daiane, prepara a 'rodinha', pq vou entrar com tudo ...\")"
      ],
      "metadata": {
        "colab": {
          "base_uri": "https://localhost:8080/"
        },
        "id": "IGiCvEX85QNE",
        "outputId": "7934d25c-36a5-43f3-c661-d7e436c7ed30"
      },
      "execution_count": 55,
      "outputs": [
        {
          "output_type": "stream",
          "name": "stdout",
          "text": [
            "Ok Daiane, prepara a 'rodinha', pq vou entrar com tudo ...\n"
          ]
        }
      ]
    },
    {
      "cell_type": "code",
      "source": [],
      "metadata": {
        "id": "UfkcRIeO6DV3"
      },
      "execution_count": 55,
      "outputs": []
    },
    {
      "cell_type": "markdown",
      "source": [
        "## Elif"
      ],
      "metadata": {
        "id": "9mI_GT-G6PT6"
      }
    },
    {
      "cell_type": "code",
      "source": [
        "dia = \"Terça\"\n",
        "if dia == \"Segunda\":\n",
        "    print(\"Hoje fará sol !\")\n",
        "else:\n",
        "    print(\"Hoje vai chover !\")    "
      ],
      "metadata": {
        "colab": {
          "base_uri": "https://localhost:8080/"
        },
        "id": "ZUoLUh9H6aHg",
        "outputId": "198d8356-7cdd-4bbd-f872-ee2d5c64a87c"
      },
      "execution_count": 57,
      "outputs": [
        {
          "output_type": "stream",
          "name": "stdout",
          "text": [
            "Hoje vai chover !\n"
          ]
        }
      ]
    },
    {
      "cell_type": "code",
      "source": [
        "if dia == \"Segunda\":\n",
        "  print(\"Hoje fará sol !\")\n",
        "elif dia == \"Terça\":\n",
        "  print(\"Hoje vai chover ...\")\n",
        "else:\n",
        "  print(\"Sem previsão do tempo para o dia selecionado ... !\")    "
      ],
      "metadata": {
        "colab": {
          "base_uri": "https://localhost:8080/"
        },
        "id": "EF9na1w77e57",
        "outputId": "c35e6721-8049-4066-f041-7769274af239"
      },
      "execution_count": 58,
      "outputs": [
        {
          "output_type": "stream",
          "name": "stdout",
          "text": [
            "Hoje vai chover ...\n"
          ]
        }
      ]
    }
  ]
}